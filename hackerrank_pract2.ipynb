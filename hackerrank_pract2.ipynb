{
 "cells": [
  {
   "cell_type": "markdown",
   "id": "4bb764cc",
   "metadata": {},
   "source": [
    "##### This function replaces a character in a string at a specified index."
   ]
  },
  {
   "cell_type": "code",
   "execution_count": 12,
   "id": "4b43cfb2",
   "metadata": {},
   "outputs": [],
   "source": [
    "def mutate_string(str:str, pos:int, char:str) -> str:\n",
    "    chars = list(str); chars[pos] = char \n",
    "    return ''.join(chars)"
   ]
  },
  {
   "cell_type": "code",
   "execution_count": null,
   "id": "f880c166",
   "metadata": {},
   "outputs": [],
   "source": [
    "if __name__ == '__main__':\n",
    "    while True:\n",
    "        string = input('Enter a string! ')\n",
    "        if string:\n",
    "            break\n",
    "\n",
    "    while True:\n",
    "        try:\n",
    "            position = int(input('Enter the position you want to change! '))\n",
    "            if 0 <= position < len(string) or -len(string) <= position <= -1: \n",
    "                new_char = input('Enter a new character! ')\n",
    "                print(mutate_string(string, position, new_char))\n",
    "                break\n",
    "            raise IndexError\n",
    "        except ValueError: print('Only integer is allowed! Try again! '); continue\n",
    "        except IndexError: print('Invalid index! Try again! '); continue"
   ]
  }
 ],
 "metadata": {
  "kernelspec": {
   "display_name": "base",
   "language": "python",
   "name": "python3"
  },
  "language_info": {
   "codemirror_mode": {
    "name": "ipython",
    "version": 3
   },
   "file_extension": ".py",
   "mimetype": "text/x-python",
   "name": "python",
   "nbconvert_exporter": "python",
   "pygments_lexer": "ipython3",
   "version": "3.11.4"
  }
 },
 "nbformat": 4,
 "nbformat_minor": 5
}
